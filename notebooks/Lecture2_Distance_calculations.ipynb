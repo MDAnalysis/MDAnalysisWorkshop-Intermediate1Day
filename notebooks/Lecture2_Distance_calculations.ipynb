{
 "cells": [
  {
   "cell_type": "markdown",
   "metadata": {
    "slideshow": {
     "slide_type": "slide"
    }
   },
   "source": [
    "# <center> Workshop - Intro to MDAnalysis Part 2</center>\n"
   ]
  },
  {
   "cell_type": "markdown",
   "metadata": {
    "slideshow": {
     "slide_type": "slide"
    }
   },
   "source": [
    "# Distance calculations in MDAnalysis"
   ]
  },
  {
   "cell_type": "markdown",
   "metadata": {
    "cell_style": "split",
    "slideshow": {
     "slide_type": "-"
    }
   },
   "source": [
    "Atom coordinates are in the \n",
    "`.positions` attribute of an `AtomGroup`\n",
    "\n",
    "The positions are returned as a NumPy array, which we can then readily manipulate.\n",
    "\n",
    "\n"
   ]
  },
  {
   "cell_type": "code",
   "execution_count": 1,
   "metadata": {
    "cell_style": "split",
    "scrolled": true,
    "slideshow": {
     "slide_type": "-"
    }
   },
   "outputs": [
    {
     "name": "stderr",
     "output_type": "stream",
     "text": [
      "/home/richard/miniconda3/envs/mda/lib/python3.11/site-packages/MDAnalysis/topology/TPRParser.py:161: DeprecationWarning: 'xdrlib' is deprecated and slated for removal in Python 3.13\n",
      "  import xdrlib\n"
     ]
    },
    {
     "name": "stdout",
     "output_type": "stream",
     "text": [
      "AtomGroup has length 3341 and positions is shape (3341, 3)\n"
     ]
    },
    {
     "data": {
      "text/plain": [
       "array([[52.017067, 43.56005 , 31.554958],\n",
       "       [51.18792 , 44.112053, 31.722015],\n",
       "       [51.550823, 42.827724, 31.038803],\n",
       "       ...,\n",
       "       [51.15081 , 41.05192 , 22.588148],\n",
       "       [50.535004, 42.01    , 22.073002],\n",
       "       [50.529068, 40.31308 , 23.381912]], dtype=float32)"
      ]
     },
     "execution_count": 1,
     "metadata": {},
     "output_type": "execute_result"
    }
   ],
   "source": [
    "# First we import MDAnalysis\n",
    "import MDAnalysis as mda\n",
    "from MDAnalysis.tests.datafiles import GRO, TRR\n",
    "\n",
    "u = mda.Universe(GRO, TRR)\n",
    "\n",
    "ag = u.select_atoms('protein')\n",
    "\n",
    "pos = ag.positions\n",
    "\n",
    "print(f'AtomGroup has length {len(ag)} and positions is shape {pos.shape}')\n",
    "\n",
    "pos"
   ]
  },
  {
   "cell_type": "markdown",
   "metadata": {},
   "source": [
    "Some built-in functions based on position data:\n",
    "\n",
    "- `center_of_mass()`\n",
    "\n",
    "- `center_of_geometry()`\n"
   ]
  },
  {
   "cell_type": "code",
   "execution_count": 2,
   "metadata": {},
   "outputs": [
    {
     "name": "stdout",
     "output_type": "stream",
     "text": [
      "[60.24875121 51.62883133 28.34134841]\n",
      "[60.36406581 51.71502188 28.40504896]\n"
     ]
    }
   ],
   "source": [
    "print(ag.center_of_mass())\n",
    "\n",
    "print(ag.center_of_geometry())"
   ]
  },
  {
   "cell_type": "markdown",
   "metadata": {
    "slideshow": {
     "slide_type": "slide"
    }
   },
   "source": [
    "## The `lib.distances` module"
   ]
  },
  {
   "cell_type": "markdown",
   "metadata": {
    "cell_style": "center",
    "slideshow": {
     "slide_type": "-"
    }
   },
   "source": [
    "Particle positions are given as numpy arrays, so most work can be done using numpy (and numpy derived) libraries.\n",
    "\n",
    "MDAnalysis  `lib.distances` module comes handy when\n",
    "\n",
    "- we have periodic boundary conditions (numpy cannot handle this)\n",
    "\n",
    "- domain specific algorithms can be used\n"
   ]
  },
  {
   "cell_type": "code",
   "execution_count": 3,
   "metadata": {},
   "outputs": [
    {
     "data": {
      "text/plain": [
       "<module 'MDAnalysis.lib.distances' from '/home/richard/miniconda3/envs/mda/lib/python3.11/site-packages/MDAnalysis/lib/distances.py'>"
      ]
     },
     "execution_count": 3,
     "metadata": {},
     "output_type": "execute_result"
    }
   ],
   "source": [
    "from MDAnalysis.lib import distances\n",
    "\n",
    "distances"
   ]
  },
  {
   "cell_type": "markdown",
   "metadata": {
    "slideshow": {
     "slide_type": "slide"
    }
   },
   "source": [
    "### `distance_array`"
   ]
  },
  {
   "cell_type": "markdown",
   "metadata": {
    "slideshow": {
     "slide_type": "-"
    }
   },
   "source": [
    "To calculate **all** pairwise distances between two arrays of coordinates."
   ]
  },
  {
   "cell_type": "code",
   "execution_count": 4,
   "metadata": {
    "cell_style": "center",
    "slideshow": {
     "slide_type": "-"
    }
   },
   "outputs": [
    {
     "name": "stdout",
     "output_type": "stream",
     "text": [
      "Our input atomgroups had sizes 10 and 20, the output had shape: (10, 20)\n",
      "\n",
      "[[4.75977987 4.08566621 4.55240204 5.05365216 5.81029095 5.60025122\n",
      "  4.39684724 2.46426988 2.90528184 3.51211077 3.63822605 4.83737734\n",
      "  5.0373312  5.4420485  5.47324644 6.48970676 5.10346582 5.30263882\n",
      "  4.14488932 6.28256501]\n",
      " [5.01070018 4.48283351 5.21601535 5.55752695 6.18997295 6.19046375\n",
      "  4.81600563 2.82888325 2.84233926 4.04800014 4.36943418 5.25682233\n",
      "  5.25253926 5.90326943 6.09164298 6.89807422 5.4536302  5.45679162\n",
      "  4.52705133 6.66421694]\n",
      " [4.89507874 4.52671222 4.53194417 4.70638093 5.50270622 5.1351855\n",
      "  3.91204319 3.35714888 3.8491653  4.35576489 4.32928123 5.73773436\n",
      "  5.99530274 6.34881541 6.28382658 7.41287194 6.0266646  6.27758574\n",
      "  5.03665197 7.13546103]\n",
      " [5.52922002 4.62538362 5.05698502 5.74221794 6.57764005 6.19140689\n",
      "  5.15532241 2.63168772 3.13787895 3.41055243 3.47894768 4.64791415\n",
      "  4.93157535 4.97535289 4.9244004  6.04014169 4.46780995 4.77116166\n",
      "  3.43541877 5.50468309]\n",
      " [3.55020451 2.64953858 3.35691959 4.20707929 4.91328192 4.88317019\n",
      "  3.81603773 1.52199808 2.38132875 2.48921448 2.56046734 3.89815076\n",
      "  4.2023687  4.80214956 4.83015671 5.81632316 4.88398894 5.14765725\n",
      "  4.11737382 6.21448695]\n",
      " [3.73653033 2.77517701 2.82970631 3.88492905 4.74093228 4.38572613\n",
      "  3.64568204 2.11311728 3.22798328 2.53024741 2.16124227 3.9693172\n",
      "  4.53148626 4.75626516 4.54367587 5.79295901 4.97647799 5.45302097\n",
      "  4.22525333 6.18747732]\n",
      " [2.26654702 2.09872875 2.803711   3.24906305 3.71844119 4.13993866\n",
      "  2.85367546 2.50363216 3.03945902 3.47243432 3.56720768 4.75651194\n",
      "  4.9327861  5.92966247 6.03206756 6.85573833 6.19377973 6.34658454\n",
      "  5.52557159 7.60074945]\n",
      " [2.65578051 3.01559231 2.98134729 2.81817138 3.32518255 3.62030262\n",
      "  2.11207976 3.45120259 3.95905927 4.43772    4.41704237 5.78079468\n",
      "  5.98762227 6.87666051 6.90154564 7.84226551 7.04205699 7.22436435\n",
      "  6.27766033 8.38980109]\n",
      " [2.5722454  2.45425614 3.74976766 4.11361477 4.38174721 5.07525193\n",
      "  3.68628205 2.57008914 2.63368678 3.71034442 4.07577868 4.8219644\n",
      "  4.75227048 6.04950303 6.33916493 6.90723617 6.23737214 6.20067415\n",
      "  5.62654168 7.70300188]\n",
      " [1.09000084 1.09000024 1.81000168 2.66922452 2.96002567 3.64830385\n",
      "  2.82570715 3.10561448 3.79250904 3.59054528 3.51521049 4.68963767\n",
      "  4.98795747 6.01911694 6.05752863 6.83822916 6.63828215 6.87326874\n",
      "  6.15016082 8.05052816]]\n"
     ]
    }
   ],
   "source": [
    "ag1 = u.atoms[:10]\n",
    "ag2 = u.atoms[10:30]\n",
    "\n",
    "\n",
    "da = distances.distance_array(ag1.positions, \n",
    "                              ag2.positions,\n",
    "                              box=u.dimensions)\n",
    "\n",
    "print(f'Our input atomgroups had sizes {len(ag1)} and {len(ag2)}, the output had shape: {da.shape}')\n",
    "print()\n",
    "\n",
    "print(da)"
   ]
  },
  {
   "cell_type": "markdown",
   "metadata": {},
   "source": [
    "The output of distance array is a matrix of the distance between each position in the first coordinate array and each position in the second coordinate array.\n",
    "\n",
    "For example to look at the distance between the 4th and 6th atom in the two AtomGroups:"
   ]
  },
  {
   "cell_type": "code",
   "execution_count": 5,
   "metadata": {},
   "outputs": [
    {
     "name": "stdout",
     "output_type": "stream",
     "text": [
      "The distance between <Atom 4: H3 of type H of resname MET, resid 1 and segid SYSTEM> and <Atom 16: HE2 of type H of resname MET, resid 1 and segid SYSTEM> is 6.19140688959118 A\n"
     ]
    }
   ],
   "source": [
    "print(f'The distance between {ag1[3]} and {ag2[5]} is {da[3, 5]} A')"
   ]
  },
  {
   "cell_type": "markdown",
   "metadata": {
    "slideshow": {
     "slide_type": "slide"
    }
   },
   "source": [
    "### `self_distance_array`\n",
    "\n",
    "For calculating distances between all combinations of coordinates.\n",
    "\n",
    "Takes a **single array** of coordinates and calculates all pairwise distances.\n",
    "This will yield  ½ n(n-1) distances.\n"
   ]
  },
  {
   "cell_type": "code",
   "execution_count": 6,
   "metadata": {
    "cell_style": "center",
    "slideshow": {
     "slide_type": "-"
    }
   },
   "outputs": [
    {
     "name": "stdout",
     "output_type": "stream",
     "text": [
      "Our input AtomGroup had size 10 and the output has shape (45,)\n"
     ]
    }
   ],
   "source": [
    "sda = distances.self_distance_array(ag1.positions, box=None)\n",
    "\n",
    "print(f'Our input AtomGroup had size {len(ag1)} and the output has shape {sda.shape}')\n"
   ]
  },
  {
   "cell_type": "markdown",
   "metadata": {
    "cell_style": "center",
    "slideshow": {
     "slide_type": "slide"
    }
   },
   "source": [
    "### `calc_bonds`\n",
    "\n",
    "For calculating a series of distances between pairs of coordinates.\n",
    "\n",
    "Takes 2 arrays of coordinates **of equal length**, and returns the distances between coordinate pairs in each row.\n"
   ]
  },
  {
   "cell_type": "code",
   "execution_count": 7,
   "metadata": {
    "cell_style": "center"
   },
   "outputs": [
    {
     "name": "stdout",
     "output_type": "stream",
     "text": [
      "The inputs had length 10 and 10 and the output has shape (10,)\n",
      "\n",
      "The distance between the first coordinate in each array is: 4.759779866326316\n"
     ]
    }
   ],
   "source": [
    "coords1 = u.atoms[:10].positions\n",
    "coords2 = u.atoms[10:20].positions\n",
    "dist = distances.calc_bonds(coords1, \n",
    "                            coords2, \n",
    "                            box=None)\n",
    "\n",
    "print(f'The inputs had length {len(coords1)} and {len(coords2)} and the output has shape {dist.shape}')\n",
    "print()\n",
    "print(f'The distance between the first coordinate in each array is: {dist[0]}')"
   ]
  },
  {
   "cell_type": "markdown",
   "metadata": {
    "slideshow": {
     "slide_type": "slide"
    }
   },
   "source": [
    "### `calc_angles` & `calc_dihedrals`\n",
    "\n",
    "Calculates either the angle or dihedral angle between 3 or 4 arrays of coordinates.\n",
    "Takes 3 or 4 arrays of **identical length** coordinates.\n",
    "\n",
    "For angles, the middle array is the apex of the angle.\n",
    "\n",
    "For dihedrals, the angle is formed between the plane of the first three coordinates, and the plane of the second three coordinates.\n"
   ]
  },
  {
   "cell_type": "code",
   "execution_count": 8,
   "metadata": {
    "cell_style": "center",
    "slideshow": {
     "slide_type": "-"
    }
   },
   "outputs": [
    {
     "name": "stdout",
     "output_type": "stream",
     "text": [
      "[ 46.07622285  78.77579992  67.70916382  37.08371044  27.22331407\n",
      "  21.63933669  28.11400767 161.52825929 138.09917802 167.75476369]\n"
     ]
    }
   ],
   "source": [
    "import numpy as np\n",
    "coords1 = u.atoms[:10].positions\n",
    "coords2 = u.atoms[10:20].positions\n",
    "coords3 = u.atoms[20:30].positions\n",
    "\n",
    "angles = distances.calc_angles(\n",
    "            coords1, coords2, coords3,\n",
    "            box=None, result=None)\n",
    "\n",
    "print(np.rad2deg(angles))\n",
    "\n",
    "\n",
    "coords4 = u.atoms[30:40].positions\n",
    "\n",
    "dihedrals = distances.calc_dihedrals(coords1, coords2, coords3, coords4)"
   ]
  },
  {
   "cell_type": "markdown",
   "metadata": {
    "slideshow": {
     "slide_type": "slide"
    }
   },
   "source": [
    "# Minimum image convention\n",
    "\n",
    "To account for periodic boundary conditions in distance calculations,\n",
    "pass the box information as `box=ag.dimensions` to any distance or angle function.\n",
    "\n",
    "This makes the distance calculation take minimum image convention into account when calculating distance,\n",
    "which makes the measured distances equal to the minimum possible between all periodic images of the two coordinates."
   ]
  },
  {
   "cell_type": "code",
   "execution_count": 9,
   "metadata": {},
   "outputs": [
    {
     "name": "stdout",
     "output_type": "stream",
     "text": [
      "The box size of our Universe is [80.017006 80.017006 80.017006 60.       60.       90.      ]\n"
     ]
    }
   ],
   "source": [
    "print(f'The box size of our Universe is {u.dimensions}')"
   ]
  },
  {
   "cell_type": "code",
   "execution_count": 10,
   "metadata": {},
   "outputs": [
    {
     "name": "stdout",
     "output_type": "stream",
     "text": [
      "The maximum distance without periodic boundaries is 89.17199054119575\n",
      "The maximum distance with periodic boundaries is 51.016247884634865\n"
     ]
    }
   ],
   "source": [
    "protein = u.select_atoms('protein')\n",
    "\n",
    "print(f'The maximum distance without periodic boundaries is {distances.self_distance_array(protein).max()}')\n",
    "\n",
    "print(f'The maximum distance with periodic boundaries is {distances.self_distance_array(protein, box=u.dimensions).max()}')"
   ]
  },
  {
   "cell_type": "markdown",
   "metadata": {
    "slideshow": {
     "slide_type": "slide"
    }
   },
   "source": [
    "# `capped_distance` and `self_capped_distance`\n",
    "\n",
    "Only find distances up to a maximum limit. It returns:\n",
    "- an array of indices\n",
    "- an array of distances\n",
    "\n",
    "This is much more efficient when dealing with large (>50,000 atoms) systems.\n",
    "\n",
    "For example, the start of a hydrogen bond analysis might look like:"
   ]
  },
  {
   "cell_type": "code",
   "execution_count": 11,
   "metadata": {
    "cell_style": "center",
    "slideshow": {
     "slide_type": "-"
    }
   },
   "outputs": [
    {
     "name": "stdout",
     "output_type": "stream",
     "text": [
      "We have 22168 hydrogens and 609 acceptors\n",
      "We found 2602 contacts less then 4.0 A\n",
      "\n",
      "The first three are [[  1 133]\n",
      " [ 36 472]\n",
      " [ 37 472]] at distances [3.89182471 1.91282448 3.38900544]\n"
     ]
    }
   ],
   "source": [
    "hydrogens = u.select_atoms('resname SOL and type H')\n",
    "acceptor = u.select_atoms('protein and type N O')\n",
    "\n",
    "print(f'We have {len(hydrogens)} hydrogens and {len(acceptor)} acceptors')\n",
    "\n",
    "ix, dist = distances.capped_distance(hydrogens.positions, \n",
    "                          acceptor.positions, \n",
    "                          min_cutoff =1.0,\n",
    "                          max_cutoff=4.0,\n",
    "                          box=u.dimensions)\n",
    "\n",
    "print(f'We found {len(ix)} contacts less then 4.0 A')\n",
    "print()\n",
    "print(f'The first three are {ix[:3]} at distances {dist[:3]}')"
   ]
  },
  {
   "cell_type": "markdown",
   "metadata": {},
   "source": [
    "We can see that capped_distance is approximately 10x faster than the brute force solution."
   ]
  },
  {
   "cell_type": "code",
   "execution_count": 12,
   "metadata": {},
   "outputs": [
    {
     "name": "stdout",
     "output_type": "stream",
     "text": [
      "297 ms ± 817 µs per loop (mean ± std. dev. of 7 runs, 1 loop each)\n"
     ]
    }
   ],
   "source": [
    "%timeit distances.distance_array(hydrogens.positions, acceptor.positions, box=u.dimensions)"
   ]
  },
  {
   "cell_type": "code",
   "execution_count": 13,
   "metadata": {},
   "outputs": [
    {
     "name": "stdout",
     "output_type": "stream",
     "text": [
      "22.6 ms ± 264 µs per loop (mean ± std. dev. of 7 runs, 10 loops each)\n"
     ]
    }
   ],
   "source": [
    "%timeit distances.capped_distance(hydrogens.positions, acceptor.positions, min_cutoff=1.0, max_cutoff=4.0, box=u.dimensions)"
   ]
  },
  {
   "cell_type": "markdown",
   "metadata": {
    "slideshow": {
     "slide_type": "slide"
    }
   },
   "source": [
    "# A summary of Lecture 2\n",
    "\n",
    "Calculating pairwise distances:\n",
    "- calc_bonds\n",
    "- distance_array\n",
    "- self_distance_array\n",
    "\n",
    "Faster, sparse pairwise distances:\n",
    "- capped_distance\n",
    "- self_capped_distance\n",
    "\n",
    "Calculating angles:\n",
    "- calc_angles\n",
    "- calc_dihedrals\n",
    "\n",
    "Use `box=u.dimensions` to take minimum image convention into account (if you want to!)."
   ]
  },
  {
   "cell_type": "markdown",
   "metadata": {
    "cell_style": "center",
    "deletable": false,
    "editable": false,
    "hide_input": true,
    "run_control": {
     "frozen": true
    },
    "slideshow": {
     "slide_type": "skip"
    }
   },
   "source": [
    "2022-07-26 11:19:45 2022-07-26 11:19:46 ## A summary of Lecture 1\n",
    "\n",
    "Most simulation analysis will involve extracting position data from certain atoms.\n",
    "\n",
    "- A `Universe` contains all information about a simulation system\n",
    "\n",
    "- An `AtomGroup` contains information about a group of atoms\n",
    "\n",
    "- We can use `Universe.select_atoms()` to create an `AtomGroup` containing specific atoms from a `Universe`\n",
    "\n",
    "- Positions of atoms in an AtomGroup are accessed through `AtomGroup.positions`"
   ]
  }
 ],
 "metadata": {
  "celltoolbar": "Slideshow",
  "hide_input": false,
  "kernelspec": {
   "display_name": "Python 3 (ipykernel)",
   "language": "python",
   "name": "python3"
  },
  "language_info": {
   "codemirror_mode": {
    "name": "ipython",
    "version": 3
   },
   "file_extension": ".py",
   "mimetype": "text/x-python",
   "name": "python",
   "nbconvert_exporter": "python",
   "pygments_lexer": "ipython3",
   "version": "3.11.0"
  },
  "toc": {
   "base_numbering": 1,
   "nav_menu": {},
   "number_sections": true,
   "sideBar": true,
   "skip_h1_title": false,
   "title_cell": "Table of Contents",
   "title_sidebar": "Contents",
   "toc_cell": false,
   "toc_position": {},
   "toc_section_display": true,
   "toc_window_display": false
  }
 },
 "nbformat": 4,
 "nbformat_minor": 4
}
