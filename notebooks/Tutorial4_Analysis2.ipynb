{
 "cells": [
  {
   "cell_type": "code",
   "execution_count": 36,
   "id": "e81091ff-24b2-4e04-bf74-877ccd0685e8",
   "metadata": {},
   "outputs": [],
   "source": [
    "import MDAnalysis as mda\n",
    "import numpy as np\n",
    "import matplotlib.pyplot as plt\n",
    "%matplotlib inline"
   ]
  },
  {
   "cell_type": "markdown",
   "id": "b8abcc4c-a264-4687-b857-6c3121d5639e",
   "metadata": {},
   "source": [
    "## Looking at the system we loaded\n",
    "\n",
    "One of the first things to do when loading a system is to inspect the data.\n",
    "This is useful to check that we have loaded the correct data, and that the data is as expected."
   ]
  },
  {
   "cell_type": "code",
   "execution_count": 77,
   "id": "e99d81c6-7e37-4150-8b40-f8929671fd74",
   "metadata": {},
   "outputs": [],
   "source": [
    "u = mda.Universe('./single_system.pdb', 'traj_unwrapped.xtc')"
   ]
  },
  {
   "cell_type": "code",
   "execution_count": 78,
   "id": "18d34f59-6f7c-4f60-b4fb-82deb60c9b67",
   "metadata": {},
   "outputs": [],
   "source": [
    "# Q: how many atoms are in the box?\n",
    "# A  len(u.atoms)\n",
    "# Q: what residues are present in the box?\n",
    "# A: set(u.atoms.resnames)\n",
    "# Q: how many bonds are in the system?\n",
    "# A: len(u.bonds)\n",
    "# Q: how many bonds would you expect in the system?\n",
    "# A: Probably about ~4000?"
   ]
  },
  {
   "cell_type": "code",
   "execution_count": 79,
   "id": "66f3d744-5bc1-44e5-9c97-1f798bc77637",
   "metadata": {},
   "outputs": [
    {
     "data": {
      "text/plain": [
       "45"
      ]
     },
     "execution_count": 79,
     "metadata": {},
     "output_type": "execute_result"
    }
   ],
   "source": [
    "len(u.bonds)"
   ]
  },
  {
   "cell_type": "markdown",
   "id": "fc92a8af-0324-4035-a82e-c8949ce7f1af",
   "metadata": {},
   "source": [
    "Our system seems correct, but the number of bonds seems low...\n",
    "Let's try and figure out what went wrong."
   ]
  },
  {
   "cell_type": "code",
   "execution_count": 81,
   "id": "128d6eff-f60d-4f8e-93ea-a8cd3b7cf075",
   "metadata": {},
   "outputs": [],
   "source": [
    "# Selecting components of the system\n",
    "protein = u.select_atoms('protein')\n",
    "ligand = u.select_atoms('resname UNK')\n",
    "ions = u.select_atoms('resname NA CL')"
   ]
  },
  {
   "cell_type": "code",
   "execution_count": 82,
   "id": "5fb77bb5-1443-4424-a07a-9bc48c0fa293",
   "metadata": {},
   "outputs": [
    {
     "data": {
      "text/plain": [
       "<AtomGroup with 0 atoms>"
      ]
     },
     "execution_count": 82,
     "metadata": {},
     "output_type": "execute_result"
    }
   ],
   "source": [
    "# Q: How would you verify that these three atom groups contain all of the atoms contained within u.atoms\n",
    "# A: Could use set operations to subtract from u.atoms, e.g.:\n",
    "u.atoms - (protein + ligand + ions)"
   ]
  },
  {
   "cell_type": "markdown",
   "id": "b8f98154-ac54-4082-a5f5-4596ba7e7499",
   "metadata": {},
   "source": [
    "Q: How would we check the number of bonds in each of these different components of the system?\n",
    "\n",
    "A: `len(protein.bonds)` etc"
   ]
  },
  {
   "cell_type": "code",
   "execution_count": 83,
   "id": "89bb3b58-0f8f-40b0-9543-fca797e55555",
   "metadata": {},
   "outputs": [],
   "source": [
    "# Q: how could you guess the bonds within an AtomGroup?\n",
    "u.select_atoms('protein').guess_bonds()"
   ]
  },
  {
   "cell_type": "code",
   "execution_count": 84,
   "id": "fc9628c1-e9ac-4d0d-b62e-d6b3737ff199",
   "metadata": {},
   "outputs": [
    {
     "data": {
      "text/plain": [
       "2"
      ]
     },
     "execution_count": 84,
     "metadata": {},
     "output_type": "execute_result"
    }
   ],
   "source": [
    "# Q: given the number of ions, approximately how many bonds should you expect?\n",
    "# Q: the ligand has 32 atoms, based on the number of bonds, can you tell how many rings are in the ligand molecule?\n",
    "# a: Would normally expect n_bonds = (n_atoms - 1) for system without rings\n",
    "#    each ring \"adds\" a bond, i.e. n_bonds = (n_atoms - 1) + n_rings\n",
    "#    so n_rings = n_bonds - (n_atoms - 1)\n",
    "len(ligand.bonds) - (len(ligand.atoms) - 1)"
   ]
  },
  {
   "cell_type": "code",
   "execution_count": 85,
   "id": "e77e530d-bd6f-46dd-ab73-2857212bf5b3",
   "metadata": {},
   "outputs": [],
   "source": [
    "# Q: (hard) given the number of molecules and bonds in the entire system, how many rings are there in this system?\n",
    "# A: Each molecule adds an atom without an expected bond, so\n",
    "#    n_bonds = (n_atoms - 1) + n_rings - n_molecules"
   ]
  },
  {
   "cell_type": "markdown",
   "id": "d772f917-4102-404b-8a04-365db2ca2544",
   "metadata": {},
   "source": [
    "## Periodic boundaries and minimising distances\n",
    "\n",
    "Periodic boundary conditions allow for an approximation of an infinitely sized system by simulating a simple unit cell. This is illustrated below. The black box is the only cell we simulate; the tiled images around it are there for illustration. The green particle moves past the top boundary of the unit cell and are moved to the bottom of the box with the same velocity (illustrated by the red dashed line). This boundary condition keeps the volume and number of particles constant in the simulation.\n",
    "\n",
    "\n",
    "<a href=\"https://upload.wikimedia.org/wikipedia/commons/2/2e/Limiteperiodicite.svg\">\n",
    "    <img src=\"https://upload.wikimedia.org/wikipedia/commons/2/2e/Limiteperiodicite.svg\" width=\"400\"/a>"
   ]
  },
  {
   "cell_type": "markdown",
   "id": "d5370d09-0cbe-432e-b778-2bbcda8b2b85",
   "metadata": {},
   "source": [
    "### Questions\n",
    "\n",
    "Q: In a cubic box with box length L, what is the largest possible distance you can travel in a single dimension before wrapping back around on yourself?\n",
    "\n",
    "A: L.  i.e. once you have travelled L in any single direction you are back to where you started.\n",
    "\n",
    "Q: In a cubic box with length L, what is the largest possible separation between two objects along a single dimension?\n",
    "\n",
    "A: L/2, any larger and there would be a smaller separation vector in the opposite direction.\n",
    "\n",
    "Q: As above, but what is the largest possible separation for a 3 dimensional vector?\n",
    "\n",
    "A: L/2 * sqrt(3)\n",
    "\n",
    "In each dimension largest separation is L/2.\n",
    "2D vector is sqrt(L^2/4 + L^2/4) = sqrt(L^2 / 2)\n",
    "Then 3D is sqrt(L^2 / 2 + L^2 / 4) = sqrt(L^2 * 3/4) = L/2 sqrt(3)\n",
    "\n",
    "### Advanced Questions\n",
    "\n",
    "Q: In a rectangular box with sides [Lx, Ly, Lz] how do the above answers change?\n",
    "\n",
    "Q: In a skewed triclinic box, how do the above answers change?"
   ]
  },
  {
   "cell_type": "markdown",
   "id": "ecebc88a-a2e0-465f-8516-b7e51165f11c",
   "metadata": {},
   "source": [
    "## Boxes in MDAnalysis\n",
    "\n",
    "The information on the periodic box is stored in the `Universe.dimensions` or `AtomGroup.dimensions` attribute.\n",
    "This gives a description of the box as 6 values, the length in x, y, z dimensions and the angle between the three vectors.\n",
    "For our example today:"
   ]
  },
  {
   "cell_type": "code",
   "execution_count": 63,
   "id": "0b2cc12d-f70a-41d9-91c5-5c82729bf115",
   "metadata": {},
   "outputs": [
    {
     "name": "stdout",
     "output_type": "stream",
     "text": [
      "Our box is [82.06851 82.06851 82.06851 90.      90.      90.     ]\n"
     ]
    }
   ],
   "source": [
    "print(f'Our box is {u.dimensions}')"
   ]
  },
  {
   "cell_type": "markdown",
   "id": "dd93a61a-5008-4620-a121-b2967dddddd8",
   "metadata": {},
   "source": [
    "All angles between the vectors are 90 degrees, so the box is orthorhombic (rectangular).\n",
    "Also the length of each dimension is identical, so we actually happen to have a cubic box."
   ]
  },
  {
   "cell_type": "code",
   "execution_count": 64,
   "id": "1155646f-e950-48d6-8db4-ab8a205c93b0",
   "metadata": {},
   "outputs": [
    {
     "name": "stdout",
     "output_type": "stream",
     "text": [
      "82.06851\n"
     ]
    }
   ],
   "source": [
    "box_L = u.dimensions[0]\n",
    "print(box_L)"
   ]
  },
  {
   "cell_type": "markdown",
   "id": "d7839d56-c9a7-4e23-9c8a-7aa40c47354b",
   "metadata": {},
   "source": [
    "## The `minimize_vectors` function\n",
    "\n",
    "The `MDAnalysis.lib.distances.minimize_vectors` function will take an array (or single) 3D vector and box description and return the smallest version of these vectors (or vector).\n",
    "\n",
    "\n",
    "Q: What is the expected return for minimize_vectors([L, L, L], u.dimensions) ?\n",
    "\n",
    "A: [0, 0, 0], since each vector gets minimised to 0\n",
    "\n",
    "Q: What is the expected return for minimize_vectors([1.2 * L, 0.2 L, 0.2 L], u.dimensions) ?\n",
    "\n",
    "A: [0.2L, 0.2L, 0.2L]\n",
    "\n",
    "Q As above, for [0.6L, 0.2L, 0.2L]\n",
    "\n",
    "A: [-0.4L, 0.2L, 0.2L].  The 0.6L can be made shorter by subtracting a box length from that dimension.\n",
    "\n",
    "Q: If the vector was the separation between two molecules, what does the **difference** between the original and minimised vector represent?\n",
    "\n",
    "A: The vector along which you can translate a molecule to minimise its **apparent** distance to another molecule.  I.e. it moves the molecule into the same image.\n",
    "\n",
    "Q: If I translate a molecule by an entire box vector(s) in a given direction(s)f, has the molecule moved?\n",
    "\n",
    "A: Depends.  Within a frame this does not represent a different position.  Over the course of a trajectory a molecule might diffuse for an entire box length, in which case yes it has moved."
   ]
  },
  {
   "cell_type": "code",
   "execution_count": 86,
   "id": "3c7248e1-c963-4cf3-a57a-98b6c81d7efc",
   "metadata": {},
   "outputs": [
    {
     "data": {
      "text/plain": [
       "array([0., 0., 0.], dtype=float32)"
      ]
     },
     "execution_count": 86,
     "metadata": {},
     "output_type": "execute_result"
    }
   ],
   "source": [
    "mda.lib.distances.minimize_vectors(np.array([box_L, box_L, box_L]), u.dimensions)"
   ]
  },
  {
   "cell_type": "markdown",
   "id": "3f6261aa-26f7-4b7b-9673-83f424aad0c9",
   "metadata": {},
   "source": [
    "Have an experiment with the above example questions using the minimize_vectors function"
   ]
  },
  {
   "cell_type": "code",
   "execution_count": 87,
   "id": "57972e9a-8ad3-4540-b3f1-df18b6538db1",
   "metadata": {},
   "outputs": [
    {
     "data": {
      "text/plain": [
       "array([-0.4,  0.2,  0.2])"
      ]
     },
     "execution_count": 87,
     "metadata": {},
     "output_type": "execute_result"
    }
   ],
   "source": [
    "mda.lib.distances.minimize_vectors(np.array([0.6 * box_L, 0.2 * box_L, 0.2 * box_L]), u.dimensions) / box_L"
   ]
  },
  {
   "cell_type": "markdown",
   "id": "45f86198-4650-4732-b179-534774b41858",
   "metadata": {},
   "source": [
    "## Checking the position of our ligand relative to the protein.\n",
    "\n",
    "In our simulation we are expecting that the ligand molecule should stay close to its original position.\n",
    "As a very simple check of our simulation we want to check the position of the ligand molecule relative to the protein molecule.  This will tell us if our simulation went as expected, or if the ligand was unhappy in its starting position and moved away."
   ]
  },
  {
   "cell_type": "code",
   "execution_count": null,
   "id": "13223642-4fcc-48b2-9164-879c6be49f18",
   "metadata": {},
   "outputs": [],
   "source": [
    "## Guide for how to solve the above question step by step?\n",
    "# For a single frame\n",
    "\n",
    "# Q: How do we get the center of mass of an AtomGroup?\n",
    "\n",
    "# Q: How do we find the distance between two coordinates (i.e. centers of mass)"
   ]
  },
  {
   "cell_type": "code",
   "execution_count": null,
   "id": "d0444b9c-88dc-4a7e-b565-ed86071aea9b",
   "metadata": {},
   "outputs": [],
   "source": [
    "# Q: Building this up, how would we iterate over a trajectory and calculate this for each frame?\n",
    "\n",
    "# Q: How would we allocate an array to store these distances and store each frame in this array?"
   ]
  },
  {
   "cell_type": "code",
   "execution_count": 14,
   "id": "5f3269e9-9449-4f35-90d9-e98f49fc1e75",
   "metadata": {},
   "outputs": [],
   "source": [
    "distance = np.zeros(len(u.trajectory))\n",
    "for ts in u.trajectory:\n",
    "    sep = protein.center_of_mass() - ligand.center_of_mass()\n",
    "\n",
    "    distance[ts.frame] = np.linalg.norm(sep)\n",
    "\n",
    "    # or alternatively\n",
    "    # distance[ts.frame] = mda.lib.distances.calc_bonds(protein.center_of_mass(), ligand.center_of_mass(), box=None)\n",
    "    # box=None ignores periodic boundary condition considerations, which is what visualising the trajectory does"
   ]
  },
  {
   "cell_type": "code",
   "execution_count": 15,
   "id": "a0d7d444-61a2-429a-9458-bc946feec73b",
   "metadata": {},
   "outputs": [
    {
     "data": {
      "text/plain": [
       "[<matplotlib.lines.Line2D at 0x144842750>]"
      ]
     },
     "execution_count": 15,
     "metadata": {},
     "output_type": "execute_result"
    },
    {
     "data": {
      "image/png": "[encoded data removed]",
      "text/plain": [
       "<Figure size 640x480 with 1 Axes>"
      ]
     },
     "metadata": {},
     "output_type": "display_data"
    }
   ],
   "source": [
    "fig, ax = plt.subplots()\n",
    "\n",
    "ax.plot(distance)"
   ]
  },
  {
   "cell_type": "markdown",
   "id": "3b2de572-c26c-4c41-a8dd-a040ef16c3de",
   "metadata": {},
   "source": [
    "## Co-locating the ligand and protein"
   ]
  },
  {
   "cell_type": "code",
   "execution_count": 9,
   "id": "84190d72-f3e2-4ee7-bb48-62a62dcfbae2",
   "metadata": {},
   "outputs": [
    {
     "data": {
      "text/plain": [
       "array([70.48313699,  1.32447797, 66.42303709])"
      ]
     },
     "execution_count": 9,
     "metadata": {},
     "output_type": "execute_result"
    }
   ],
   "source": [
    "protein.center_of_mass()"
   ]
  },
  {
   "cell_type": "code",
   "execution_count": 10,
   "id": "058fd599-92fd-4745-9924-e5937a93d09d",
   "metadata": {},
   "outputs": [
    {
     "data": {
      "text/plain": [
       "array([75.05613137, 73.33579275, 64.85428082])"
      ]
     },
     "execution_count": 10,
     "metadata": {},
     "output_type": "execute_result"
    }
   ],
   "source": [
    "ligand.center_of_mass()"
   ]
  },
  {
   "cell_type": "code",
   "execution_count": 88,
   "id": "aa2302ed-2f1e-4100-844b-981b7e6d46e9",
   "metadata": {},
   "outputs": [],
   "source": [
    "# Q: calculate the vector separating the protein COM from ligand COM\n",
    "# a: \n",
    "separation = protein.center_of_mass() - ligand.center_of_mass()"
   ]
  },
  {
   "cell_type": "code",
   "execution_count": 89,
   "id": "da8445aa-d63a-42fb-b9d2-86574d6167c4",
   "metadata": {},
   "outputs": [],
   "source": [
    "# Q: u.dimensions gives the box dimensions as [Lx, Ly, Lz, alpha, beta, gamma], what shape is the system periodic box?\n",
    "# a: orthorhombic box\n",
    "# Q: how is it permitted to translate coordinates of the ligand molecule while respecting periodic boundary conditions\n",
    "# a: can translate ligand molecule by any of the box vectors Lx, Ly, Lz (or combinations thereof)"
   ]
  },
  {
   "cell_type": "code",
   "execution_count": 90,
   "id": "8dd95010-2d16-473e-9038-e9891d9467f0",
   "metadata": {},
   "outputs": [],
   "source": [
    "minimal_separation = mda.lib.distances.minimize_vectors(separation, box=u.dimensions)"
   ]
  },
  {
   "cell_type": "code",
   "execution_count": 91,
   "id": "4c8dd397-1ef6-491c-aa95-fb00d125913a",
   "metadata": {},
   "outputs": [
    {
     "data": {
      "text/plain": [
       "array([ 0.00000000e+00, -8.20685120e+01, -2.22044605e-16])"
      ]
     },
     "execution_count": 91,
     "metadata": {},
     "output_type": "execute_result"
    }
   ],
   "source": [
    "separation - minimal_separation"
   ]
  },
  {
   "cell_type": "code",
   "execution_count": 92,
   "id": "246092d2-99a2-452a-89da-46ad74d63d4b",
   "metadata": {},
   "outputs": [
    {
     "data": {
      "text/plain": [
       "array([ 0.00000000e+00, -1.00000000e+00, -2.70560047e-18])"
      ]
     },
     "execution_count": 92,
     "metadata": {},
     "output_type": "execute_result"
    }
   ],
   "source": [
    "(separation - minimal_separation) / box_L"
   ]
  },
  {
   "cell_type": "code",
   "execution_count": 18,
   "id": "9422a3d5-b233-4de8-a8ad-0092b886df3d",
   "metadata": {},
   "outputs": [
    {
     "data": {
      "text/plain": [
       "<AtomGroup with 32 atoms>"
      ]
     },
     "execution_count": 18,
     "metadata": {},
     "output_type": "execute_result"
    }
   ],
   "source": [
    "ligand.translate(separation - minimal_separation)"
   ]
  },
  {
   "cell_type": "code",
   "execution_count": 19,
   "id": "47a860fc-5192-46aa-9313-cb28b533ea8e",
   "metadata": {},
   "outputs": [
    {
     "data": {
      "text/plain": [
       "array([-4.57299437, 10.05719719,  1.56875628])"
      ]
     },
     "execution_count": 19,
     "metadata": {},
     "output_type": "execute_result"
    }
   ],
   "source": [
    "protein.center_of_mass() - ligand.center_of_mass()"
   ]
  },
  {
   "cell_type": "markdown",
   "id": "15efea24-3afa-4e9a-8f5b-1bbfcd98d6a4",
   "metadata": {},
   "source": [
    "## Writing a function to shift the ligand to the closest image to the protein\n",
    "\n"
   ]
  },
  {
   "cell_type": "code",
   "execution_count": 20,
   "id": "f4d44176-4ce5-4e75-b54c-2b542521571c",
   "metadata": {},
   "outputs": [],
   "source": [
    "# Q: which periodic image of the ligand is correct?\n",
    "# a: trick question, all images are correct, depending on the calculation\n",
    "#    for looking at ligand interaction with protein, likely the one that minimises COM distance is correct"
   ]
  },
  {
   "cell_type": "markdown",
   "id": "6445921d-091f-4193-a9eb-aba6567601da",
   "metadata": {},
   "source": [
    "## Putting it all together\n",
    "\n",
    "MDAnalysis contains a system for automatically applying these sorts of post-simulation modifications to trajectories called `transformations`.\n",
    "These are one or more functions which alter the trajectory data just after it is loaded,\n",
    "and are applied automatically whenever the trajectory is manipulated (i.e. iterated or seeked etc).\n",
    "\n",
    "We can write our own `Transformation` objects to apply the ligand re-imaging automatically.\n",
    "To do this we must import the `TransformationBase` class, and create a subclass which we will call `LigandShift`.\n",
    "\n",
    "There are two methods (functions on the class) that we must write.\n",
    "First the `__init__` method defines what information the transformation requires to operate,\n",
    "in our case this is the definition of the protein and ligand AtomGroups.\n",
    "Next the `._transform` method defines the mathematical operations that will take place which will operate on these two AtomGroups.\n",
    "\n",
    "Using the previously written functions, finish the `LigandShift` transformation class."
   ]
  },
  {
   "cell_type": "code",
   "execution_count": 73,
   "id": "4a656ee5-af96-49dc-b387-bea9251fc5db",
   "metadata": {},
   "outputs": [],
   "source": [
    "from MDAnalysis.transformations.base import TransformationBase\n",
    "\n",
    "class LigandShift(TransformationBase):\n",
    "    def __init__(self, protein, ligand):\n",
    "        super().__init__()\n",
    "        self.protein = protein\n",
    "        self.ligand = ligand\n",
    "\n",
    "    def _transform(self, ts):\n",
    "        # put ligand shifting code here\n",
    "        \n",
    "        return ts"
   ]
  },
  {
   "cell_type": "code",
   "execution_count": 93,
   "id": "3d7f2036-98a7-40f2-b575-e6ee5ef098e5",
   "metadata": {},
   "outputs": [],
   "source": [
    "u2 = mda.Universe('./single_system.pdb', './traj_unwrapped.xtc')\n",
    "\n",
    "prot2 = u2.select_atoms('protein')\n",
    "ligand2 = u2.select_atoms('resname UNK')"
   ]
  },
  {
   "cell_type": "code",
   "execution_count": 94,
   "id": "9be2744d-b1fb-4531-b243-3228266f4b8e",
   "metadata": {},
   "outputs": [],
   "source": [
    "ligshift = LigandShift(prot2, ligand2)"
   ]
  },
  {
   "cell_type": "code",
   "execution_count": 95,
   "id": "cd1775ce-cb5f-417c-88a8-abaef4645f86",
   "metadata": {},
   "outputs": [],
   "source": [
    "u2.trajectory.add_transformations(ligshift)"
   ]
  },
  {
   "cell_type": "code",
   "execution_count": null,
   "id": "f17128a2-b718-417f-b026-9f6c70b6ffb9",
   "metadata": {},
   "outputs": [],
   "source": [
    "# run the above analysis wrt ligand-protein position\n",
    "# and check that the transformation pipeline has properly post-processed your trajectory data"
   ]
  },
  {
   "cell_type": "markdown",
   "id": "d7e3c490-ddb8-474e-849e-74f0a7ce43da",
   "metadata": {},
   "source": [
    "## Extension work\n",
    "\n",
    "Using the previous notebooks on using Analysis modules, calculate the RMSD and RMSF of the ligand molecule.\n",
    "Does this differ when using the above transformation toolchain?\n",
    "\n",
    "Another common operation is to align the trajectory to minimise the RMSD of the protein over the trajectory.  How could this be implemented as a transformation?"
   ]
  },
  {
   "cell_type": "code",
   "execution_count": null,
   "id": "3ae8fd09-6b4a-4f62-b8f5-3f549a55eb6d",
   "metadata": {},
   "outputs": [],
   "source": []
  }
 ],
 "metadata": {
  "kernelspec": {
   "display_name": "Python 3 (ipykernel)",
   "language": "python",
   "name": "python3"
  },
  "language_info": {
   "codemirror_mode": {
    "name": "ipython",
    "version": 3
   },
   "file_extension": ".py",
   "mimetype": "text/x-python",
   "name": "python",
   "nbconvert_exporter": "python",
   "pygments_lexer": "ipython3",
   "version": "3.11.0"
  }
 },
 "nbformat": 4,
 "nbformat_minor": 5
}
