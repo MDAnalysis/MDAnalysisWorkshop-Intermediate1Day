{
 "cells": [
  {
   "cell_type": "markdown",
   "id": "175515a6-56be-4e57-bed6-b771bcfd98ba",
   "metadata": {},
   "source": [
    "# Session 4:  Post processing trajectories\n",
    "\n",
    "<a id='trajandtrans'></a>\n",
    "\n",
    "<a rel=\"license\" href=\"http://creativecommons.org/licenses/by/4.0/\"><img alt=\"Creative Commons Licence\" style=\"border-width:0\" src=\"https://i.creativecommons.org/l/by/4.0/88x31.png\" title='This work is licensed under a Creative Commons Attribution 4.0 International License.' align=\"right\"/></a>\n",
    "\n",
    "Authors: \n",
    "\n",
    "- Dr Micaela Matta - [@micaela-matta](https://github.com/micaela-matta)\n",
    "- Dr Richard Gowers - [@richardjgowers](https://github.com/richardjgowers) \n",
    "\n",
    "\n",
    "### Learning outcomes \n",
    "\n",
    "- Understanding the treatment of periodic boundary conditions in MDAnalysis\n",
    "- Using distance calculation methods to manipulate periodic images of molecules\n",
    "- Creating your on-the-fly transformations using MDAnalysis\n",
    "\n",
    "\n",
    "#### Additional resources\n",
    "\n",
    " - During the workshop, feel free to ask questions at any time\n",
    " - For more on how to use MDAnalysis, see the [User Guide](https://userguide.mdanalysis.org/2.0.0-dev0/) and [documentation](https://docs.mdanalysis.org/2.0.0-dev0/)\n",
    " - Ask questions on the [GitHub Discussions forum](https://github.com/MDAnalysis/mdanalysis/discussions) or on [Discord](https://discord.gg/fXTSfDJyxE)\n",
    " - Report bugs on [GitHub](https://github.com/MDAnalysis/mdanalysis/issues?)\n"
   ]
  },
  {
   "cell_type": "markdown",
   "id": "3dd32941-859b-47d3-b8a4-8ebcf1e9d0f7",
   "metadata": {},
   "source": [
    "# Google Colab package installs\n",
    "\n",
    "This installs the necessary packages for Google Colab. Please only run these if you are using Colab."
   ]
  },
  {
   "cell_type": "code",
   "execution_count": null,
   "id": "7d17c233-8e88-4453-b2b1-9607198ea46b",
   "metadata": {},
   "outputs": [],
   "source": [
    "# NBVAL_SKIP\n",
    "!pip install condacolab\n",
    "import condacolab\n",
    "condacolab.install()"
   ]
  },
  {
   "cell_type": "code",
   "execution_count": null,
   "id": "891e3cfa-e217-4436-8c64-794168c1ba2f",
   "metadata": {},
   "outputs": [],
   "source": [
    "# NBVAL_SKIP\n",
    "import condacolab\n",
    "condacolab.check()\n",
    "!mamba install -c conda-forge mdanalysis mdanalysistests mdanalysisdata nglview rdkit"
   ]
  },
  {
   "cell_type": "code",
   "execution_count": null,
   "id": "1773973d-3664-4e4f-b038-d83359c0b024",
   "metadata": {},
   "outputs": [],
   "source": [
    "# NBVAL_SKIP\n",
    "# enable third party jupyter widgets\n",
    "from google.colab import output\n",
    "output.enable_custom_widget_manager()"
   ]
  },
  {
   "cell_type": "code",
   "execution_count": 1,
   "id": "e81091ff-24b2-4e04-bf74-877ccd0685e8",
   "metadata": {},
   "outputs": [
    {
     "name": "stderr",
     "output_type": "stream",
     "text": [
      "/Users/richard/mambaforge/envs/mda/lib/python3.11/site-packages/MDAnalysis/topology/TPRParser.py:161: DeprecationWarning: 'xdrlib' is deprecated and slated for removal in Python 3.13\n",
      "  import xdrlib\n"
     ]
    },
    {
     "data": {
      "application/vnd.jupyter.widget-view+json": {
       "model_id": "e3a859362d834916ab59e56f9807712a",
       "version_major": 2,
       "version_minor": 0
      },
      "text/plain": []
     },
     "metadata": {},
     "output_type": "display_data"
    }
   ],
   "source": [
    "import warnings\n",
    "warnings.filterwarnings(\"ignore\")\n",
    "import MDAnalysis as mda\n",
    "import numpy as np\n",
    "import matplotlib.pyplot as plt\n",
    "import nglview as nv\n",
    "%matplotlib inline"
   ]
  },
  {
   "cell_type": "markdown",
   "id": "b8abcc4c-a264-4687-b857-6c3121d5639e",
   "metadata": {},
   "source": [
    "## 1. Inspecting a loaded system\n",
    "\n",
    "In this notebook we'll be looking at a protein-ligand complex.\n",
    "One of the first things to do when loading a system is to inspect the data.\n",
    "This is useful to check that we have loaded the correct data, and that the data is as expected."
   ]
  },
  {
   "cell_type": "code",
   "execution_count": 2,
   "id": "e99d81c6-7e37-4150-8b40-f8929671fd74",
   "metadata": {},
   "outputs": [],
   "source": [
    "u = mda.Universe('./data/topology.pdb', './data/traj.xtc')"
   ]
  },
  {
   "cell_type": "markdown",
   "id": "d47cec59-4fa1-44b9-9d66-490efa511065",
   "metadata": {},
   "source": [
    "Basic questions on loading a system into MDAnalysis:\n",
    "- How many atoms are in the system?\n",
    "- What residues are present?\n",
    "- How many bonds are in the system?\n",
    "- How many bonds should I expect in this system?"
   ]
  },
  {
   "cell_type": "code",
   "execution_count": null,
   "id": "8858cf04-3b9a-4258-9a05-430906b9170c",
   "metadata": {},
   "outputs": [],
   "source": []
  },
  {
   "cell_type": "markdown",
   "id": "fc92a8af-0324-4035-a82e-c8949ce7f1af",
   "metadata": {},
   "source": [
    "Our system seems correct, but the number of bonds seems low...\n",
    "Let's try and figure out what went wrong."
   ]
  },
  {
   "cell_type": "code",
   "execution_count": 7,
   "id": "128d6eff-f60d-4f8e-93ea-a8cd3b7cf075",
   "metadata": {},
   "outputs": [],
   "source": [
    "# Based on observed resnames, selecting components of the system\n",
    "protein = u.select_atoms('protein')\n",
    "ligand = u.select_atoms('resname UNK')\n",
    "ions = u.select_atoms('resname NA CL')"
   ]
  },
  {
   "cell_type": "code",
   "execution_count": 8,
   "id": "33c4f102-e3bd-4048-81a8-9a0718bffd8e",
   "metadata": {},
   "outputs": [
    {
     "data": {
      "application/vnd.jupyter.widget-view+json": {
       "model_id": "2bcedb0c770747f89a73bae1eb876238",
       "version_major": 2,
       "version_minor": 0
      },
      "text/plain": [
       "NGLWidget(max_frame=500)"
      ]
     },
     "metadata": {},
     "output_type": "display_data"
    }
   ],
   "source": [
    "nv.show_mdanalysis(protein)"
   ]
  },
  {
   "cell_type": "markdown",
   "id": "a3f84475-1bbf-4ab1-b1d0-3d23c84e9022",
   "metadata": {},
   "source": [
    "Q: How could one verify that these three atom groups contain all of the atoms contained within u.atoms?"
   ]
  },
  {
   "cell_type": "code",
   "execution_count": null,
   "id": "5fb77bb5-1443-4424-a07a-9bc48c0fa293",
   "metadata": {},
   "outputs": [],
   "source": []
  },
  {
   "cell_type": "markdown",
   "id": "b8f98154-ac54-4082-a5f5-4596ba7e7499",
   "metadata": {},
   "source": [
    "Q: How would we check the number of bonds in each of these different components of the system?\n"
   ]
  },
  {
   "cell_type": "code",
   "execution_count": null,
   "id": "ad67fbdd-b9e9-4e2f-8409-b4e1664c37f8",
   "metadata": {},
   "outputs": [],
   "source": []
  },
  {
   "cell_type": "markdown",
   "id": "e9ef707e-4276-4b00-8d68-1c9ffdffb083",
   "metadata": {},
   "source": [
    "Q: How can bonds for an AtomGroup be guessed?"
   ]
  },
  {
   "cell_type": "code",
   "execution_count": null,
   "id": "0f8aec3a-08b9-4918-89a1-be1673de754b",
   "metadata": {},
   "outputs": [],
   "source": []
  },
  {
   "cell_type": "markdown",
   "id": "8aa4b090-0c72-4987-84b2-dcb24ffae198",
   "metadata": {},
   "source": [
    "Q: Given the number of ions, approximately how many bonds should you expect?"
   ]
  },
  {
   "cell_type": "code",
   "execution_count": null,
   "id": "643ee8c3-6f8d-4155-9534-e1784ae24596",
   "metadata": {},
   "outputs": [],
   "source": []
  },
  {
   "cell_type": "markdown",
   "id": "d8b8d1b2-00b2-4d29-84a6-c1de6c987041",
   "metadata": {},
   "source": [
    "Q: Given the ligand has 32 atoms, based on the number of bonds, can you tell how many rings are in the ligand molecule?"
   ]
  },
  {
   "cell_type": "code",
   "execution_count": null,
   "id": "ae6369ae-9e8a-4b7b-9b1f-5362661862f9",
   "metadata": {},
   "outputs": [],
   "source": []
  },
  {
   "cell_type": "code",
   "execution_count": 5,
   "id": "c704f409-5d70-4f9b-85d0-e88f3a977d01",
   "metadata": {},
   "outputs": [
    {
     "data": {
      "application/vnd.jupyter.widget-view+json": {
       "model_id": "88c25415e6c94c37b6e3c48fd02eae0a",
       "version_major": 2,
       "version_minor": 0
      },
      "text/plain": [
       "NGLWidget(max_frame=500)"
      ]
     },
     "metadata": {},
     "output_type": "display_data"
    }
   ],
   "source": [
    "nv.show_mdanalysis(u.select_atoms('resname UNK'))"
   ]
  },
  {
   "cell_type": "markdown",
   "id": "25a178de-c361-4e0f-bdc5-112a9339e1f0",
   "metadata": {},
   "source": [
    "Q: (hard) given the number of molecules and bonds in the entire system, how many rings are there in this system?\n"
   ]
  },
  {
   "cell_type": "markdown",
   "id": "d772f917-4102-404b-8a04-365db2ca2544",
   "metadata": {},
   "source": [
    "## 2. Periodic boundaries and minimising distances\n",
    "\n",
    "Periodic boundary conditions allow for an approximation of an infinitely sized system by simulating a simple unit cell. This is illustrated below. The black box is the only cell we simulate; the tiled images around it are there for illustration. The green particle moves past the top boundary of the unit cell and are moved to the bottom of the box with the same velocity (illustrated by the red dashed line). This boundary condition keeps the volume and number of particles constant in the simulation.\n",
    "\n",
    "\n",
    "<a href=\"https://upload.wikimedia.org/wikipedia/commons/2/2e/Limiteperiodicite.svg\">\n",
    "    <img src=\"https://upload.wikimedia.org/wikipedia/commons/2/2e/Limiteperiodicite.svg\" width=\"400\"/a>"
   ]
  },
  {
   "cell_type": "markdown",
   "id": "d5370d09-0cbe-432e-b778-2bbcda8b2b85",
   "metadata": {},
   "source": [
    "### Questions\n",
    "\n",
    "Q: In a cubic box with box length L, what is the largest possible distance you can travel in a single dimension before wrapping back around on yourself?\n",
    "\n",
    "A: L.  i.e. once you have travelled L in any single direction you are back to where you started.\n",
    "\n",
    "Q: In a cubic box with length L, what is the largest possible separation between two objects along a single dimension?\n",
    "\n",
    "A: L/2, any larger and there would be a smaller separation vector in the opposite direction.\n",
    "\n",
    "Q: As above, but what is the largest possible separation for a 3 dimensional vector?\n",
    "\n",
    "A: L/2 * sqrt(3)\n",
    "\n",
    "In each dimension largest separation is L/2.\n",
    "2D vector is sqrt(L^2/4 + L^2/4) = sqrt(L^2 / 2)\n",
    "Then 3D is sqrt(L^2 / 2 + L^2 / 4) = sqrt(L^2 * 3/4) = L/2 sqrt(3)\n",
    "\n",
    "### Advanced Questions\n",
    "\n",
    "Q: In a rectangular box with sides [Lx, Ly, Lz] how do the above answers change?\n",
    "\n",
    "Q: In a skewed triclinic box, how do the above answers change?"
   ]
  },
  {
   "cell_type": "markdown",
   "id": "ecebc88a-a2e0-465f-8516-b7e51165f11c",
   "metadata": {},
   "source": [
    "## 3. Periodic boundary treatment in MDAnalysis\n",
    "\n",
    "The information on the periodic box is stored in the `Universe.dimensions` or `AtomGroup.dimensions` attribute.\n",
    "This gives a description of the box as 6 values, the length in x, y, z dimensions and the angle between the three vectors.\n",
    "For our example today:"
   ]
  },
  {
   "cell_type": "code",
   "execution_count": null,
   "id": "0b2cc12d-f70a-41d9-91c5-5c82729bf115",
   "metadata": {},
   "outputs": [],
   "source": [
    "print(f'Our box is {u.dimensions}')"
   ]
  },
  {
   "cell_type": "markdown",
   "id": "dd93a61a-5008-4620-a121-b2967dddddd8",
   "metadata": {},
   "source": [
    "All angles between the vectors are 90 degrees, so the box is orthorhombic (rectangular).\n",
    "Also the length of each dimension is identical, so we actually happen to have a cubic box."
   ]
  },
  {
   "cell_type": "code",
   "execution_count": null,
   "id": "1155646f-e950-48d6-8db4-ab8a205c93b0",
   "metadata": {},
   "outputs": [],
   "source": [
    "box_L = u.dimensions[0]\n",
    "print(box_L)"
   ]
  },
  {
   "cell_type": "markdown",
   "id": "d8b791de-eb02-4631-a48c-b7478e07224c",
   "metadata": {},
   "source": [
    "### The `minimize_vectors` function\n",
    "\n",
    "The `MDAnalysis.lib.distances.minimize_vectors` function will take an array (or single) 3D vector and box description and return the smallest version of these vectors (or vector).\n",
    "\n",
    "\n",
    "Q: What is the expected return for minimize_vectors([L, L, L], u.dimensions) ?"
   ]
  },
  {
   "cell_type": "code",
   "execution_count": null,
   "id": "8e3e9969-9f83-47ff-8a7f-e996d4cf2e3b",
   "metadata": {},
   "outputs": [],
   "source": []
  },
  {
   "cell_type": "markdown",
   "id": "fd733b70-6f39-46db-81d6-96fba8e23a45",
   "metadata": {},
   "source": [
    "Q: What is the expected return for minimize_vectors([1.2 * L, 0.2 L, 0.2 L], u.dimensions) ?"
   ]
  },
  {
   "cell_type": "code",
   "execution_count": null,
   "id": "22d665ee-99a5-4b37-bcf2-0c0b605145b9",
   "metadata": {},
   "outputs": [],
   "source": []
  },
  {
   "cell_type": "markdown",
   "id": "91ae92c1-af8b-4d7f-a0cb-92f9f55d59d6",
   "metadata": {},
   "source": [
    "Q As above, for [0.6L, 0.2L, 0.2L]"
   ]
  },
  {
   "cell_type": "code",
   "execution_count": null,
   "id": "3b08ba67-6aab-439f-bf30-f855ff03b680",
   "metadata": {},
   "outputs": [],
   "source": []
  },
  {
   "cell_type": "markdown",
   "id": "1b50c8df-d1a1-4583-bb07-c59ae96aba13",
   "metadata": {},
   "source": [
    "Q: If the vector was the separation between two molecules, what does the **difference** between the original and minimised vector represent?"
   ]
  },
  {
   "cell_type": "code",
   "execution_count": null,
   "id": "bf070a29-2bb0-4174-af24-d152995bf346",
   "metadata": {},
   "outputs": [],
   "source": []
  },
  {
   "cell_type": "markdown",
   "id": "7de3c246-dc6c-46b4-a9f7-c2c88e3dcf60",
   "metadata": {},
   "source": [
    "Q: If I translate a molecule by an entire box vector(s) in a given direction(s)f, has the molecule moved?"
   ]
  },
  {
   "cell_type": "code",
   "execution_count": null,
   "id": "d098e744-326e-4bb7-9753-a7d8795fca42",
   "metadata": {},
   "outputs": [],
   "source": []
  },
  {
   "cell_type": "markdown",
   "id": "45f86198-4650-4732-b179-534774b41858",
   "metadata": {},
   "source": [
    "## 4. Checking the position of our ligand relative to the protein.\n",
    "\n",
    "In our simulation we are expecting that the ligand molecule should stay close to its original position.\n",
    "As a very simple check of our simulation we want to check the position of the ligand molecule relative to the protein molecule.  This will tell us if our simulation went as expected, or if the ligand was unhappy in its starting position and moved away."
   ]
  },
  {
   "cell_type": "code",
   "execution_count": null,
   "id": "13223642-4fcc-48b2-9164-879c6be49f18",
   "metadata": {},
   "outputs": [],
   "source": [
    "## Guide for how to solve the above question step by step?\n",
    "# For a single frame\n",
    "\n",
    "# How do we get the center of mass of an AtomGroup?\n",
    "\n",
    "# How do we find the distance between two coordinates (i.e. centers of mass)"
   ]
  },
  {
   "cell_type": "code",
   "execution_count": null,
   "id": "d0444b9c-88dc-4a7e-b565-ed86071aea9b",
   "metadata": {},
   "outputs": [],
   "source": [
    "\n",
    "# Building this up, how would we iterate over a trajectory and calculate this for each frame?\n",
    "\n",
    "# How would we allocate an array to store these distances and store each frame in this array?"
   ]
  },
  {
   "cell_type": "code",
   "execution_count": null,
   "id": "a0d7d444-61a2-429a-9458-bc946feec73b",
   "metadata": {},
   "outputs": [],
   "source": [
    "fig, ax = plt.subplots()\n",
    "\n",
    "ax.plot(distance)"
   ]
  },
  {
   "cell_type": "code",
   "execution_count": null,
   "id": "6bc43704-5821-450c-8f06-c5ecf57164b1",
   "metadata": {},
   "outputs": [],
   "source": [
    "nv.show_mdanalysis(u.tao"
   ]
  },
  {
   "cell_type": "markdown",
   "id": "3b2de572-c26c-4c41-a8dd-a040ef16c3de",
   "metadata": {},
   "source": [
    "### Co-locating the ligand and protein\n",
    "\n",
    "Although apparently separate, we have a hunch that our ligand and protein might actually be closer than they initially appear..."
   ]
  },
  {
   "cell_type": "code",
   "execution_count": null,
   "id": "1df30a6b-643e-4ae1-ba4b-dd5042773187",
   "metadata": {},
   "outputs": [],
   "source": [
    " distance[0] / box_L"
   ]
  },
  {
   "cell_type": "markdown",
   "id": "c4f35a46-2e7e-408b-86f9-d781d1471bf7",
   "metadata": {},
   "source": [
    "Q: Calculate the vector separating the protein COM from the ligand COM"
   ]
  },
  {
   "cell_type": "code",
   "execution_count": null,
   "id": "aa2302ed-2f1e-4100-844b-981b7e6d46e9",
   "metadata": {},
   "outputs": [],
   "source": [
    "separation = protein.center_of_mass() - ligand.center_of_mass()"
   ]
  },
  {
   "cell_type": "markdown",
   "id": "3a4a243e-a2e4-494f-be54-0b9c78fa697d",
   "metadata": {},
   "source": [
    "We can then calculate the minimised version of this vector."
   ]
  },
  {
   "cell_type": "code",
   "execution_count": null,
   "id": "8dd95010-2d16-473e-9038-e9891d9467f0",
   "metadata": {},
   "outputs": [],
   "source": [
    "minimal_separation = mda.lib.distances.minimize_vectors(separation, box=u.dimensions)"
   ]
  },
  {
   "cell_type": "markdown",
   "id": "737fc81f-f127-4955-9428-5ff7508a96c1",
   "metadata": {},
   "source": [
    "And calculate the difference between these \"raw\" and \"minimised\" vectors:"
   ]
  },
  {
   "cell_type": "code",
   "execution_count": null,
   "id": "4c8dd397-1ef6-491c-aa95-fb00d125913a",
   "metadata": {},
   "outputs": [],
   "source": [
    "separation - minimal_separation"
   ]
  },
  {
   "cell_type": "code",
   "execution_count": null,
   "id": "246092d2-99a2-452a-89da-46ad74d63d4b",
   "metadata": {},
   "outputs": [],
   "source": [
    "(separation - minimal_separation) / box_L"
   ]
  },
  {
   "cell_type": "markdown",
   "id": "ed361cbb-afa0-4357-8658-617789f7dc14",
   "metadata": {},
   "source": [
    "The `AtomGroup.translate` method allows the positions of `atoms inside this group to be shifted"
   ]
  },
  {
   "cell_type": "code",
   "execution_count": null,
   "id": "9422a3d5-b233-4de8-a8ad-0092b886df3d",
   "metadata": {},
   "outputs": [],
   "source": [
    "ligand.translate(separation - minimal_separation)"
   ]
  },
  {
   "cell_type": "markdown",
   "id": "b3995261-c0f3-42e1-91ed-2a356138c513",
   "metadata": {},
   "source": [
    "The separation vector is now much smaller than before"
   ]
  },
  {
   "cell_type": "code",
   "execution_count": null,
   "id": "47a860fc-5192-46aa-9313-cb28b533ea8e",
   "metadata": {},
   "outputs": [],
   "source": [
    "protein.center_of_mass() - ligand.center_of_mass()"
   ]
  },
  {
   "cell_type": "markdown",
   "id": "15efea24-3afa-4e9a-8f5b-1bbfcd98d6a4",
   "metadata": {},
   "source": [
    "## Writing a function to shift the ligand to the closest image to the protein\n",
    "\n",
    "Using all of the above working, can you write a function that for each timestep,\n",
    "translates the ligand molecule to move it into the closest image with the protein each step?"
   ]
  },
  {
   "cell_type": "code",
   "execution_count": null,
   "id": "a83d432b-5e71-42de-88bd-65922f43efae",
   "metadata": {},
   "outputs": [],
   "source": [
    "# some skeleton code...\n",
    "def reimage_ligand(protein, ligand):\n",
    "    # calculate a separation vector...\n",
    "\n",
    "    # figure out a shift in box lengths to apply to the ligand\n",
    "\n",
    "    # translate the ligand in-place\n",
    "    pass\n",
    "\n",
    "for ts in u.trajectory:\n",
    "    reimage_ligand(protein, ligand)"
   ]
  },
  {
   "cell_type": "code",
   "execution_count": null,
   "id": "f4d44176-4ce5-4e75-b54c-2b542521571c",
   "metadata": {},
   "outputs": [],
   "source": [
    "# Q: which periodic image of the ligand is correct?\n",
    "# a: trick question, all images are correct, depending on the calculation\n",
    "#    for looking at ligand interaction with protein, likely the one that minimises COM distance is correct"
   ]
  },
  {
   "cell_type": "markdown",
   "id": "6445921d-091f-4193-a9eb-aba6567601da",
   "metadata": {},
   "source": [
    "## 5. Putting it all together - Transformations\n",
    "\n",
    "MDAnalysis contains a system for automatically applying these sorts of post-simulation modifications to trajectories called `transformations`.\n",
    "These are one or more functions which alter the trajectory data just after it is loaded,\n",
    "and are applied automatically whenever the trajectory is manipulated (i.e. iterated or seeked etc).\n",
    "\n",
    "We can write our own `Transformation` objects to apply the ligand re-imaging automatically.\n",
    "To do this we must import the `TransformationBase` class, and create a subclass which we will call `LigandShift`.\n",
    "\n",
    "There are two methods (functions on the class) that we must write.\n",
    "First the `__init__` method defines what information the transformation requires to operate,\n",
    "in our case this is the definition of the protein and ligand AtomGroups.\n",
    "Next the `._transform` method defines the mathematical operations that will take place which will operate on these two AtomGroups.\n",
    "\n",
    "Using the previously written functions, finish the `LigandShift` transformation class."
   ]
  },
  {
   "cell_type": "code",
   "execution_count": null,
   "id": "4a656ee5-af96-49dc-b387-bea9251fc5db",
   "metadata": {},
   "outputs": [],
   "source": [
    "from MDAnalysis.transformations.base import TransformationBase\n",
    "\n",
    "class LigandShift(TransformationBase):\n",
    "    def __init__(self, protein, ligand):\n",
    "        super().__init__()\n",
    "        self.protein = protein\n",
    "        self.ligand = ligand\n",
    "\n",
    "    def _transform(self, ts):\n",
    "        # put ligand shifting code here\n",
    "        \n",
    "        return ts"
   ]
  },
  {
   "cell_type": "code",
   "execution_count": null,
   "id": "3d7f2036-98a7-40f2-b575-e6ee5ef098e5",
   "metadata": {},
   "outputs": [],
   "source": [
    "u2 = mda.Universe('./data/topology.pdb', './data/traj.xtc')\n",
    "\n",
    "prot2 = u2.select_atoms('protein')\n",
    "ligand2 = u2.select_atoms('resname UNK')"
   ]
  },
  {
   "cell_type": "code",
   "execution_count": null,
   "id": "9be2744d-b1fb-4531-b243-3228266f4b8e",
   "metadata": {},
   "outputs": [],
   "source": [
    "ligshift = LigandShift(prot2, ligand2)"
   ]
  },
  {
   "cell_type": "code",
   "execution_count": null,
   "id": "cd1775ce-cb5f-417c-88a8-abaef4645f86",
   "metadata": {},
   "outputs": [],
   "source": [
    "u2.trajectory.add_transformations(ligshift)"
   ]
  },
  {
   "cell_type": "code",
   "execution_count": null,
   "id": "f17128a2-b718-417f-b026-9f6c70b6ffb9",
   "metadata": {},
   "outputs": [],
   "source": [
    "# run the above analysis wrt ligand-protein position\n",
    "# and check that the transformation pipeline has properly post-processed your trajectory data"
   ]
  },
  {
   "cell_type": "markdown",
   "id": "2c4155cf-42eb-49e8-be30-27e3f3cfa467",
   "metadata": {},
   "source": [
    "## 6. Extension work\n",
    "\n",
    "Transformations are a powerful way to transform trajectory data as it is loaded.\n",
    "There are many transformation modules built in to MDAnalysis that perform useful operations such as\n",
    "re-imaging molecules, unwrapping or wrapping around periodic boundaries and rotating and aligning molecules.\n"
   ]
  },
  {
   "cell_type": "code",
   "execution_count": null,
   "id": "3ae8fd09-6b4a-4f62-b8f5-3f549a55eb6d",
   "metadata": {},
   "outputs": [],
   "source": []
  }
 ],
 "metadata": {
  "kernelspec": {
   "display_name": "Python 3 (ipykernel)",
   "language": "python",
   "name": "python3"
  },
  "language_info": {
   "codemirror_mode": {
    "name": "ipython",
    "version": 3
   },
   "file_extension": ".py",
   "mimetype": "text/x-python",
   "name": "python",
   "nbconvert_exporter": "python",
   "pygments_lexer": "ipython3",
   "version": "3.11.0"
  }
 },
 "nbformat": 4,
 "nbformat_minor": 5
}
