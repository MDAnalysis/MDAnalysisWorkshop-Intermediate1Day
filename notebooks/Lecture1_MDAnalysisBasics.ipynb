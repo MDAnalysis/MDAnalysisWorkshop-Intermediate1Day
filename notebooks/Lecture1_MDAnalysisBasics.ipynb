{
 "cells": [
  {
   "cell_type": "markdown",
   "metadata": {
    "slideshow": {
     "slide_type": "slide"
    }
   },
   "source": [
    "# <center>  Workshop - Intro to MDAnalysis Part 1</center>\n",
    "\n"
   ]
  },
  {
   "cell_type": "markdown",
   "metadata": {
    "slideshow": {
     "slide_type": "skip"
    }
   },
   "source": [
    "# Getting started with MDAnalysis\n",
    "\n",
    "## Installing MDAnalysis\n",
    "\n",
    "A conda environment containing all the dependencies you will need for this workshop is provided under `environment.yml`.\n",
    "\n",
    "Installation instructions here: https://www.mdanalysis.org/pages/installation_quick_start/. Installation is normally done through **pip** or **conda**.\n",
    "\n",
    "`pip install MDAnalysis`\n",
    "\n",
    "If you want to use the example data used here, you'll also need MDAnalysisTests:\n",
    "\n",
    "`pip install MDAnalysisTests`\n",
    "\n",
    "MDAnalysis also has a repository of large example data files under MDAnalysisData:\n",
    "\n",
    "`pip install MDAnalysisData`"
   ]
  },
  {
   "cell_type": "markdown",
   "metadata": {
    "heading_collapsed": true,
    "slideshow": {
     "slide_type": "slide"
    }
   },
   "source": [
    "# Learning Objectives\n",
    "\n",
    "This short overview will introduce:\n",
    "\n",
    "- **the MDAnalysis object structures**\n",
    "\n",
    "- **how to load and visualise a system**\n",
    "\n",
    "- **how to select groups of atoms**\n",
    "\n",
    "- how to apply built-in analyses to atom selections\n",
    "\n",
    "We will have a closer look into the first 3 in the upcoming Tutorial."
   ]
  },
  {
   "cell_type": "markdown",
   "metadata": {
    "cell_style": "center",
    "slideshow": {
     "slide_type": "slide"
    }
   },
   "source": [
    "# The general object structure of MDAnalysis\n",
    "\n",
    "The two fundamental classes of MDAnalysis are the `Universe` and the `AtomGroup`.\n",
    "\n",
    "<br><center><img src=\"imgs/mdaclasses.png\" alt=\"mda\" style=\"width: 2000px;\"/></center>\n"
   ]
  },
  {
   "cell_type": "markdown",
   "metadata": {
    "slideshow": {
     "slide_type": "subslide"
    }
   },
   "source": [
    "- **The `Universe`** contains everything about a molecular dynamics system\n",
    "  - Static information: atoms and their connectivities (topology)\n",
    "  - Dynamic information: the trajectory (coordinates, frames)\n",
    "  \n",
    "<br><center><img src=\"imgs/mdaclasses.png\" alt=\"mda\" style=\"width: 2000px;\"/></center>"
   ]
  },
  {
   "cell_type": "markdown",
   "metadata": {
    "slideshow": {
     "slide_type": "subslide"
    }
   },
   "source": [
    "- The atoms in a `Universe` can be accessed through a hierarchy of containers:\n",
    " - *Atoms* can be grouped together into **an `AtomGroup`** \n",
    "    - *Residues* are made up of *atoms*. They can be grouped into `ResidueGroups`\n",
    "      - *Segments* are made up of *residues*. They can be grouped into `SegmentGroups`.\n",
    "        \n",
    "<br><center><img src=\"imgs/mdaclasses.png\" alt=\"mda\" style=\"width: 2000px;\"/></center>"
   ]
  },
  {
   "cell_type": "markdown",
   "metadata": {
    "cell_style": "center",
    "slideshow": {
     "slide_type": "slide"
    }
   },
   "source": [
    "# A (very) basic workflow for an analysis in MDAnalysis:\n",
    "\n",
    "1. import MDAnalysis\n",
    "2. create a `Universe`\n",
    "3. define an `AtomGroup`\n",
    "4. collect position data\n",
    "5. analyse!"
   ]
  },
  {
   "cell_type": "markdown",
   "metadata": {
    "slideshow": {
     "slide_type": "slide"
    }
   },
   "source": [
    "# The `Universe`"
   ]
  },
  {
   "cell_type": "markdown",
   "metadata": {
    "slideshow": {
     "slide_type": "-"
    }
   },
   "source": [
    "## The basic command for loading a universe is:\n",
    "\n",
    " `u = mda.Universe(topology, trajectory)`"
   ]
  },
  {
   "cell_type": "markdown",
   "metadata": {
    "cell_style": "split",
    "slideshow": {
     "slide_type": "-"
    }
   },
   "source": [
    "- The *topology* file must contain the atom information \n",
    "- The (optional) *trajectory* file(s) contains the positions of atoms with time.\n",
    "\n",
    "Note that some files can double as both a *topology* and a *trajectory* (e.g. PDB files).\n",
    "\n",
    "MDanalysis supports [over 40 input file types](https://userguide.mdanalysis.org/2.0.0-dev0/formats/index.html#formats)"
   ]
  },
  {
   "cell_type": "code",
   "execution_count": 11,
   "metadata": {
    "cell_style": "split",
    "slideshow": {
     "slide_type": "-"
    }
   },
   "outputs": [
    {
     "data": {
      "text/plain": [
       "<Universe with 3341 atoms>"
      ]
     },
     "execution_count": 11,
     "metadata": {},
     "output_type": "execute_result"
    }
   ],
   "source": [
    "# First we import MDAnalysis\n",
    "import MDAnalysis as mda\n",
    "mda.warnings.showwarning\n",
    "\n",
    "# Let's get some example data\n",
    "from MDAnalysis.tests.datafiles import PSF, DCD\n",
    "\n",
    "# and now load our universe!\n",
    "u = mda.Universe(PSF, DCD)\n",
    "u"
   ]
  },
  {
   "cell_type": "markdown",
   "metadata": {
    "slideshow": {
     "slide_type": "slide"
    }
   },
   "source": [
    "## Key properties of a `Universe`:"
   ]
  },
  {
   "cell_type": "markdown",
   "metadata": {
    "cell_style": "split",
    "slideshow": {
     "slide_type": "-"
    }
   },
   "source": [
    "- `atoms`: an `AtomGroup` containing all of the system's atoms\n",
    "    - similarly, `segments` and `residues`; a `SegmentGroup` and a `ResidueGroup`, respectively\n",
    "    \n",
    "- Various bond and angle information, as `TopologyGroups`: `bonds`, `angles`, `dihedrals`, `impropers` (if found in the topology file)\n",
    "\n",
    "- `trajectory` (section 2): accessing time-dependent data structures"
   ]
  },
  {
   "cell_type": "code",
   "execution_count": 12,
   "metadata": {
    "cell_style": "split",
    "scrolled": true,
    "slideshow": {
     "slide_type": "-"
    }
   },
   "outputs": [
    {
     "data": {
      "text/plain": [
       "<TopologyGroup containing 3365 bonds>"
      ]
     },
     "execution_count": 12,
     "metadata": {},
     "output_type": "execute_result"
    }
   ],
   "source": [
    "u.bonds"
   ]
  },
  {
   "cell_type": "markdown",
   "metadata": {
    "slideshow": {
     "slide_type": "slide"
    }
   },
   "source": [
    "# AtomGroups"
   ]
  },
  {
   "cell_type": "markdown",
   "metadata": {
    "slideshow": {
     "slide_type": "-"
    }
   },
   "source": [
    "## An `AtomGroup` is an \"array\" of atoms.\n",
    "\n",
    "We can get various properties of each atom contained in an `AtomGroup` through attribues, e.g.:"
   ]
  },
  {
   "cell_type": "markdown",
   "metadata": {
    "cell_style": "split",
    "slideshow": {
     "slide_type": "-"
    }
   },
   "source": [
    "   - `names`\n",
    "   - `resnames`\n",
    "   - `resids` \n",
    "   - `charges`\n",
    "   - `masses`\n",
    "\n",
    "Exactly which properties you can get depend on what is read from the topology (see the [documentation](https://userguide.mdanalysis.org/2.0.0-dev0/formats/index.html#formats))"
   ]
  },
  {
   "cell_type": "code",
   "execution_count": 13,
   "metadata": {
    "cell_style": "split",
    "slideshow": {
     "slide_type": "-"
    }
   },
   "outputs": [
    {
     "name": "stdout",
     "output_type": "stream",
     "text": [
      "<class 'MDAnalysis.core.groups.AtomGroup'>\n"
     ]
    },
    {
     "data": {
      "text/plain": [
       "array(['N', 'HT1', 'HT2', ..., 'C', 'OT1', 'OT2'], dtype=object)"
      ]
     },
     "execution_count": 13,
     "metadata": {},
     "output_type": "execute_result"
    }
   ],
   "source": [
    "# Calling atoms creates an AtomGroup based\n",
    "# on all the atoms in the system\n",
    "ag = u.atoms\n",
    "print(type(ag))\n",
    "ag.names"
   ]
  },
  {
   "cell_type": "markdown",
   "metadata": {
    "slideshow": {
     "slide_type": "slide"
    }
   },
   "source": [
    "# Atom selections\n",
    "\n",
    "We don't ususally want to work with the whole set of atoms in a trajectory. We need a way to create `AtomGroups` containing selected atoms."
   ]
  },
  {
   "cell_type": "markdown",
   "metadata": {
    "slideshow": {
     "slide_type": "subslide"
    }
   },
   "source": [
    "### But first... visualising selections"
   ]
  },
  {
   "cell_type": "markdown",
   "metadata": {
    "cell_style": "split",
    "slideshow": {
     "slide_type": "-"
    }
   },
   "source": [
    "[nglview](https://github.com/nglviewer/nglview#usage) will allow us to view MDAnalysis Universes and AtomGroups inside Jupyter notebooks.\n",
    "\n",
    "It's included as part of the workshop's environment."
   ]
  },
  {
   "cell_type": "code",
   "execution_count": 14,
   "metadata": {
    "cell_style": "split",
    "slideshow": {
     "slide_type": "-"
    }
   },
   "outputs": [
    {
     "data": {
      "application/vnd.jupyter.widget-view+json": {
       "model_id": "5527fa2e6db540a585b4d09477c8370b",
       "version_major": 2,
       "version_minor": 0
      },
      "text/plain": [
       "NGLWidget(max_frame=97)"
      ]
     },
     "metadata": {},
     "output_type": "display_data"
    }
   ],
   "source": [
    "# first, import nglview\n",
    "import nglview as nv\n",
    "  \n",
    "# add a universe (or atomgroup)\n",
    "view_u = nv.show_mdanalysis(u)\n",
    "\n",
    "# launch the viewer\n",
    "view_u"
   ]
  },
  {
   "cell_type": "markdown",
   "metadata": {
    "cell_style": "center",
    "slideshow": {
     "slide_type": "subslide"
    }
   },
   "source": [
    "## Selecting atoms to create AtomGroups"
   ]
  },
  {
   "cell_type": "markdown",
   "metadata": {
    "cell_style": "center"
   },
   "source": [
    " AtomGroups can be created by indexing `atoms`."
   ]
  },
  {
   "cell_type": "code",
   "execution_count": 15,
   "metadata": {
    "cell_style": "split"
   },
   "outputs": [
    {
     "name": "stdout",
     "output_type": "stream",
     "text": [
      "['N' 'HT1' 'HT2' 'HT3' 'CA' 'HA' 'CB' 'HB1' 'HB2' 'CG' 'HG1' 'HG2' 'SD'\n",
      " 'CE' 'HE1' 'HE2' 'HE3' 'C' 'O' 'N']\n"
     ]
    }
   ],
   "source": [
    "ag = u.atoms[0:20]\n",
    "print(ag.names)"
   ]
  },
  {
   "cell_type": "code",
   "execution_count": 16,
   "metadata": {
    "cell_style": "split"
   },
   "outputs": [
    {
     "data": {
      "application/vnd.jupyter.widget-view+json": {
       "model_id": "a5408e27b8bf4c4c85ee1a67a6865686",
       "version_major": 2,
       "version_minor": 0
      },
      "text/plain": [
       "NGLWidget(max_frame=97)"
      ]
     },
     "metadata": {},
     "output_type": "display_data"
    }
   ],
   "source": [
    "view = nv.show_mdanalysis(ag)\n",
    "view"
   ]
  },
  {
   "cell_type": "markdown",
   "metadata": {
    "slideshow": {
     "slide_type": "subslide"
    }
   },
   "source": [
    "### Selection strings and `select_atoms`\n",
    "\n",
    "We can use the `select_atoms()` method of an `AtomGroup` or `Universe` to return an `AtomGroup` based on a selection string."
   ]
  },
  {
   "cell_type": "markdown",
   "metadata": {
    "cell_style": "split",
    "slideshow": {
     "slide_type": "-"
    }
   },
   "source": [
    "There's a lot of options for selection strings (see the  [UserGuide]( https://userguide.mdanalysis.org/2.0.0-dev0/selections.html)); including:\n",
    "\n",
    " - selection by attribute (e.g. residue name (`resname`)), including presets like `protein`\n",
    " - wildcard matching (`*`)\n",
    " - boolean operators (`and`, `or`, `not`)\n",
    " - geometric (e.g. `around`, `sphzone`, ...)\n",
    " - and more!\n",
    " \n",
    " "
   ]
  },
  {
   "cell_type": "code",
   "execution_count": 17,
   "metadata": {
    "cell_style": "split",
    "slideshow": {
     "slide_type": "-"
    }
   },
   "outputs": [
    {
     "data": {
      "application/vnd.jupyter.widget-view+json": {
       "model_id": "6869db885a46474ca6e47e2e21cb5ca8",
       "version_major": 2,
       "version_minor": 0
      },
      "text/plain": [
       "NGLWidget(max_frame=97)"
      ]
     },
     "metadata": {},
     "output_type": "display_data"
    }
   ],
   "source": [
    "ag = u.select_atoms('protein')\n",
    "view_ag = nv.show_mdanalysis(ag)\n",
    "view_ag"
   ]
  },
  {
   "cell_type": "code",
   "execution_count": 18,
   "metadata": {
    "cell_style": "split",
    "slideshow": {
     "slide_type": "-"
    }
   },
   "outputs": [],
   "source": [
    "view_ag.add_licorice()"
   ]
  },
  {
   "cell_type": "markdown",
   "metadata": {
    "cell_style": "center",
    "slideshow": {
     "slide_type": "slide"
    }
   },
   "source": [
    "# Working with coordinates"
   ]
  },
  {
   "cell_type": "markdown",
   "metadata": {
    "slideshow": {
     "slide_type": "subslide"
    }
   },
   "source": [
    "### The most useful attribute of out atoms are their coordinates, available in the `positions` attribute of an `AtomGroup`"
   ]
  },
  {
   "cell_type": "markdown",
   "metadata": {
    "cell_style": "split",
    "slideshow": {
     "slide_type": "-"
    }
   },
   "source": [
    "The positions are returned as a NumPy array, which we can then readily manipulate.\n",
    "\n",
    "There are some built-in functions based on position data, e.g. `center_of_mass()`, `center_of_geometry()`"
   ]
  },
  {
   "cell_type": "code",
   "execution_count": 19,
   "metadata": {
    "cell_style": "split",
    "slideshow": {
     "slide_type": "-"
    }
   },
   "outputs": [
    {
     "name": "stdout",
     "output_type": "stream",
     "text": [
      "[[ 11.736044    8.500797  -10.445281 ]\n",
      " [ 12.365119    7.839936  -10.834842 ]\n",
      " [ 12.0919485   9.441535  -10.724611 ]\n",
      " ...\n",
      " [  6.512604   18.447018   -7.134053 ]\n",
      " [  6.300186   19.363485   -7.935916 ]\n",
      " [  5.5854015  17.589624   -6.9656615]]\n"
     ]
    }
   ],
   "source": [
    "pos = u.atoms.positions\n",
    "print(pos)"
   ]
  },
  {
   "cell_type": "markdown",
   "metadata": {
    "slideshow": {
     "slide_type": "-"
    }
   },
   "source": [
    "This is just data from one frame - in the next section we will cover how to work with trajectories to get data across a whole simulation."
   ]
  },
  {
   "cell_type": "markdown",
   "metadata": {
    "slideshow": {
     "slide_type": "slide"
    }
   },
   "source": [
    "# Built-in Analyses"
   ]
  },
  {
   "cell_type": "markdown",
   "metadata": {
    "cell_style": "split"
   },
   "source": [
    "* MDAnalysis has plenty of built-in analysis methods (RMSD, RMSF, MSD, PCA, PSA, etc...)\n",
    "\n",
    "* These use [AnalysisBase](https://docs.mdanalysis.org/stable/documentation_pages/analysis/base.html) objects and can be called via a `run()` method to get data over the length of a trajectory.\n",
    "\n",
    "* We will touch upon these during the next few notebooks, but they won't be a primary focus of this workshop."
   ]
  },
  {
   "cell_type": "code",
   "execution_count": 20,
   "metadata": {
    "cell_style": "split"
   },
   "outputs": [
    {
     "name": "stderr",
     "output_type": "stream",
     "text": [
      "/Users/micaela/miniconda3/envs/mda_workshop/lib/python3.11/site-packages/MDAnalysis/coordinates/DCD.py:165: DeprecationWarning: DCDReader currently makes independent timesteps by copying self.ts while other readers update self.ts inplace. This behavior will be changed in 3.0 to be the same as other readers. Read more at https://github.com/MDAnalysis/mdanalysis/issues/3889 to learn if this change in behavior might affect you.\n",
      "  warnings.warn(\"DCDReader currently makes independent timesteps\"\n"
     ]
    },
    {
     "data": {
      "image/png": "[encoded data removed]",
      "text/plain": [
       "<Figure size 640x480 with 1 Axes>"
      ]
     },
     "metadata": {},
     "output_type": "display_data"
    }
   ],
   "source": [
    "from matplotlib import pyplot as plt\n",
    "from MDAnalysis.analysis.rms import RMSD\n",
    "import seaborn as sns\n",
    "sns.set_context('poster')\n",
    "%matplotlib inline\n",
    "\n",
    "u = mda.Universe(PSF, DCD)\n",
    "\n",
    "c_alphas = u.select_atoms('name CA')\n",
    "\n",
    "R = RMSD(c_alphas, c_alphas)\n",
    "R.run()\n",
    "plt.plot(R.results.rmsd.T[0], R.results.rmsd.T[2])\n",
    "plt.xlabel('frame')\n",
    "plt.ylabel('RMSD - Å')\n",
    "plt.show()"
   ]
  },
  {
   "cell_type": "markdown",
   "metadata": {
    "slideshow": {
     "slide_type": "slide"
    }
   },
   "source": [
    "# A summary of Lecture 1\n",
    "\n",
    "Most simulation analysis will involve extracting position data from certain atoms.\n",
    "\n",
    "- A Universe contains all information about a simulation system\n",
    "\n",
    "- An `AtomGroup` contains information about a group of atoms\n",
    "\n",
    "- We can use `Universe.select_atoms()` to create an `AtomGroup` containing specific atoms from a `Universe`\n",
    "\n",
    "- Positions of atoms in an `AtomGroup` are accessed through `AtomGroup.positions`"
   ]
  },
  {
   "cell_type": "markdown",
   "metadata": {},
   "source": [
    "# Workshop topics"
   ]
  },
  {
   "cell_type": "markdown",
   "metadata": {},
   "source": [
    "- **Tutorial 1 :** Basics of MDAnalysis\n",
    "  * Fundamental MDAnalysis objects\n",
    "  * Atom selections\n",
    "  * Visualising systems\n",
    "  * Accessing bond, angle, and dihedral information"
   ]
  },
  {
   "cell_type": "markdown",
   "metadata": {},
   "source": [
    "\n",
    "- **Tutorial 2:** Positions, distances, and trajectory \n",
    "  * Using position data\n",
    "  * Calculating distances, bonds and angles\n",
    "  * Accessing trajectory data"
   ]
  },
  {
   "cell_type": "markdown",
   "metadata": {
    "slideshow": {
     "slide_type": "subslide"
    }
   },
   "source": [
    "# Now - on to the first tutorial!\n",
    "\n",
    "Find the tutorial notebook `Tutorial1_System_Manipulation` under: https://github.com/MDAnalysis/MDAnalysisWorkshop2023/notebooks/Tutorial1_System_Manipulation.ipynb\n",
    "\n",
    "**Remember:**\n",
    "- Go at your own pace!\n",
    "- Ask questions!\n",
    "- Take breaks!"
   ]
  },
  {
   "cell_type": "code",
   "execution_count": null,
   "metadata": {},
   "outputs": [],
   "source": []
  }
 ],
 "metadata": {
  "celltoolbar": "Slideshow",
  "hide_input": false,
  "kernelspec": {
   "display_name": "Python 3 (ipykernel)",
   "language": "python",
   "name": "python3"
  },
  "language_info": {
   "codemirror_mode": {
    "name": "ipython",
    "version": 3
   },
   "file_extension": ".py",
   "mimetype": "text/x-python",
   "name": "python",
   "nbconvert_exporter": "python",
   "pygments_lexer": "ipython3",
   "version": "3.11.0"
  },
  "toc": {
   "base_numbering": "",
   "nav_menu": {},
   "number_sections": false,
   "sideBar": true,
   "skip_h1_title": true,
   "title_cell": "Table of Contents",
   "title_sidebar": "Contents",
   "toc_cell": false,
   "toc_position": {
    "height": "calc(100% - 180px)",
    "left": "10px",
    "top": "150px",
    "width": "560.78125px"
   },
   "toc_section_display": true,
   "toc_window_display": true
  }
 },
 "nbformat": 4,
 "nbformat_minor": 2
}
